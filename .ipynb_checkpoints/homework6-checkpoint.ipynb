{
 "cells": [
  {
   "cell_type": "code",
   "execution_count": 1,
   "id": "a7c26e1b-3481-4539-b16e-746a62323d33",
   "metadata": {},
   "outputs": [],
   "source": [
    "import numpy as np"
   ]
  },
  {
   "cell_type": "code",
   "execution_count": 2,
   "id": "3faa8ade-ab69-4eb5-8da3-f444fc938e19",
   "metadata": {},
   "outputs": [],
   "source": [
    "list = [20,27,9,12,31,17,4,50,39,35]"
   ]
  },
  {
   "cell_type": "code",
   "execution_count": 4,
   "id": "b049e88e-0169-442e-a0fa-5da7fbdacf62",
   "metadata": {},
   "outputs": [],
   "source": [
    "arr = np.array(list)"
   ]
  },
  {
   "cell_type": "code",
   "execution_count": 5,
   "id": "f9dd33f2-d8ed-4603-95ff-b06e8277e351",
   "metadata": {},
   "outputs": [
    {
     "data": {
      "text/plain": [
       "array([ 80, 108,  36,  48, 124,  68,  16, 200, 156, 140])"
      ]
     },
     "execution_count": 5,
     "metadata": {},
     "output_type": "execute_result"
    }
   ],
   "source": [
    "arr*4"
   ]
  },
  {
   "cell_type": "code",
   "execution_count": 9,
   "id": "a29d6527-d1b0-45e1-a029-b57c2d1e1863",
   "metadata": {},
   "outputs": [
    {
     "name": "stdout",
     "output_type": "stream",
     "text": [
      "24.4\n"
     ]
    }
   ],
   "source": [
    "print(arr.mean())"
   ]
  },
  {
   "cell_type": "code",
   "execution_count": 16,
   "id": "298ac7f0-4f01-45fd-bb99-a4377bb05ad8",
   "metadata": {},
   "outputs": [
    {
     "name": "stdout",
     "output_type": "stream",
     "text": [
      "23.5\n"
     ]
    }
   ],
   "source": [
    "print(np.median(arr))"
   ]
  },
  {
   "cell_type": "code",
   "execution_count": 18,
   "id": "7ccee9d3-b440-41b2-976b-f2fcce765739",
   "metadata": {},
   "outputs": [
    {
     "name": "stdout",
     "output_type": "stream",
     "text": [
      "13.828955130450023\n"
     ]
    }
   ],
   "source": [
    "print(np.std(arr))"
   ]
  },
  {
   "cell_type": "code",
   "execution_count": 26,
   "id": "226e5903-d6c9-4a7c-974a-2826b917e6fc",
   "metadata": {},
   "outputs": [
    {
     "data": {
      "text/plain": [
       "np.int64(6)"
      ]
     },
     "execution_count": 26,
     "metadata": {},
     "output_type": "execute_result"
    }
   ],
   "source": [
    "np.argmin(arr)"
   ]
  },
  {
   "cell_type": "code",
   "execution_count": 28,
   "id": "4dfc4d9f-8d71-48f3-9472-1d9ad7895d67",
   "metadata": {},
   "outputs": [
    {
     "data": {
      "text/plain": [
       "np.int64(7)"
      ]
     },
     "execution_count": 28,
     "metadata": {},
     "output_type": "execute_result"
    }
   ],
   "source": [
    "np.argmax(arr)"
   ]
  },
  {
   "cell_type": "code",
   "execution_count": 25,
   "id": "7598c145-2074-44d6-92c2-13e42da8ea4d",
   "metadata": {},
   "outputs": [
    {
     "name": "stdout",
     "output_type": "stream",
     "text": [
      "4\n"
     ]
    }
   ],
   "source": [
    "print(arr[6])"
   ]
  },
  {
   "cell_type": "code",
   "execution_count": 27,
   "id": "a6da9307-dfe0-448b-878f-fe8474e1543e",
   "metadata": {},
   "outputs": [
    {
     "name": "stdout",
     "output_type": "stream",
     "text": [
      "50\n"
     ]
    }
   ],
   "source": [
    "print(arr[7])"
   ]
  },
  {
   "cell_type": "code",
   "execution_count": 29,
   "id": "6869bd91-c9f6-49c9-a9c3-153890b03c55",
   "metadata": {},
   "outputs": [
    {
     "data": {
      "text/plain": [
       "np.int64(4)"
      ]
     },
     "execution_count": 29,
     "metadata": {},
     "output_type": "execute_result"
    }
   ],
   "source": [
    "np.min(arr)"
   ]
  },
  {
   "cell_type": "code",
   "execution_count": 31,
   "id": "cd267d91-8928-4e1b-934c-da30e0ac2e95",
   "metadata": {},
   "outputs": [
    {
     "data": {
      "text/plain": [
       "np.int64(50)"
      ]
     },
     "execution_count": 31,
     "metadata": {},
     "output_type": "execute_result"
    }
   ],
   "source": [
    "np.max(arr)\n",
    "#Yes, they match!"
   ]
  },
  {
   "cell_type": "code",
   "execution_count": 38,
   "id": "bc036b90-0897-42c0-8ffb-9da624e497e3",
   "metadata": {},
   "outputs": [
    {
     "name": "stdout",
     "output_type": "stream",
     "text": [
      "[27 31 50 39 35]\n"
     ]
    }
   ],
   "source": [
    "print(arr[arr>20])"
   ]
  },
  {
   "cell_type": "code",
   "execution_count": 67,
   "id": "481def09-5928-4fb5-a1a3-3c1f3ce4f95d",
   "metadata": {},
   "outputs": [],
   "source": [
    "matrix = [\n",
    "    [5,12,17,9],\n",
    "    [8,21,14,3],\n",
    "    [6,13,19,11]\n",
    "]\n",
    "matrix = np.array(matrix)"
   ]
  },
  {
   "cell_type": "code",
   "execution_count": 68,
   "id": "fa1f97c8-c8c7-4b4d-95cc-a28d2bb8701d",
   "metadata": {},
   "outputs": [
    {
     "data": {
      "text/plain": [
       "(3, 4)"
      ]
     },
     "execution_count": 68,
     "metadata": {},
     "output_type": "execute_result"
    }
   ],
   "source": [
    "np.shape(matrix)\n",
    "#3 rows, 4 columns"
   ]
  },
  {
   "cell_type": "code",
   "execution_count": 70,
   "id": "f203271e-fc8e-4307-942b-775b768957b0",
   "metadata": {},
   "outputs": [
    {
     "name": "stdout",
     "output_type": "stream",
     "text": [
      "[17 14 19]\n"
     ]
    }
   ],
   "source": [
    "print(matrix[:,2])"
   ]
  },
  {
   "cell_type": "code",
   "execution_count": 74,
   "id": "82c3e507-9b58-461f-9c57-2bde938d0333",
   "metadata": {},
   "outputs": [
    {
     "name": "stdout",
     "output_type": "stream",
     "text": [
      "[ 8 21 14  3]\n"
     ]
    }
   ],
   "source": [
    "print(matrix[1])"
   ]
  },
  {
   "cell_type": "code",
   "execution_count": 75,
   "id": "58bb0ec1-001f-4118-9250-63f34dd704de",
   "metadata": {},
   "outputs": [
    {
     "name": "stdout",
     "output_type": "stream",
     "text": [
      "[[10 24 34 18]\n",
      " [16 42 28  6]\n",
      " [12 26 38 22]]\n"
     ]
    }
   ],
   "source": [
    "print(matrix*2)"
   ]
  },
  {
   "cell_type": "code",
   "execution_count": 79,
   "id": "dd7007c1-7f5d-4798-b2ab-600831537797",
   "metadata": {},
   "outputs": [
    {
     "name": "stdout",
     "output_type": "stream",
     "text": [
      "6.333333333333333\n",
      "15.333333333333334\n",
      "16.666666666666668\n",
      "7.666666666666667\n"
     ]
    }
   ],
   "source": [
    "for column in matrix.T:\n",
    "    print(column.mean())"
   ]
  },
  {
   "cell_type": "code",
   "execution_count": 80,
   "id": "9a1d5d11-448b-47cd-bd04-d5cb0179c95a",
   "metadata": {},
   "outputs": [
    {
     "name": "stdout",
     "output_type": "stream",
     "text": [
      "11.5\n"
     ]
    }
   ],
   "source": [
    "print(matrix.mean())"
   ]
  },
  {
   "cell_type": "code",
   "execution_count": 86,
   "id": "25b61776-1097-4a48-ab15-719afb28800e",
   "metadata": {},
   "outputs": [
    {
     "name": "stdout",
     "output_type": "stream",
     "text": [
      "5\n",
      "12\n",
      "14\n",
      "3\n"
     ]
    }
   ],
   "source": [
    "for column in matrix.T:\n",
    "    print(column.min())"
   ]
  },
  {
   "cell_type": "raw",
   "id": "5e28ce99-e58a-4827-a4e5-4788482861c8",
   "metadata": {},
   "source": []
  },
  {
   "cell_type": "code",
   "execution_count": 119,
   "id": "8591192f-4d04-4b37-b5cf-5b53a5909cb1",
   "metadata": {},
   "outputs": [
    {
     "data": {
      "text/plain": [
       "array([ 5, 12, 17,  9,  8, 21, 14,  3,  6, 13, 19, 11])"
      ]
     },
     "execution_count": 119,
     "metadata": {},
     "output_type": "execute_result"
    }
   ],
   "source": [
    "matrix.flatten()\n",
    "#Turned 1-dimensional/into a list"
   ]
  },
  {
   "cell_type": "code",
   "execution_count": 120,
   "id": "7bdb9381-3e89-4c6e-b215-f4a6c972fc1a",
   "metadata": {},
   "outputs": [
    {
     "data": {
      "text/plain": [
       "np.int64(7)"
      ]
     },
     "execution_count": 120,
     "metadata": {},
     "output_type": "execute_result"
    }
   ],
   "source": [
    "np.argmin(matrix.flatten())"
   ]
  },
  {
   "cell_type": "code",
   "execution_count": 121,
   "id": "ed6fb4a7-b214-4484-a437-7276558fed49",
   "metadata": {},
   "outputs": [
    {
     "data": {
      "text/plain": [
       "np.int64(5)"
      ]
     },
     "execution_count": 121,
     "metadata": {},
     "output_type": "execute_result"
    }
   ],
   "source": [
    "np.argmax(matrix.flatten())"
   ]
  },
  {
   "cell_type": "code",
   "execution_count": 128,
   "id": "2ffa9854-a3a5-4913-a453-a873f6429492",
   "metadata": {},
   "outputs": [
    {
     "name": "stdout",
     "output_type": "stream",
     "text": [
      "(np.int64(1), np.int64(3))\n"
     ]
    }
   ],
   "source": [
    "print(np.unravel_index(np.argmin(matrix.flatten()), matrix.shape))"
   ]
  },
  {
   "cell_type": "code",
   "execution_count": 126,
   "id": "bf00b426-71f5-4e97-8507-3f3b51e2092f",
   "metadata": {},
   "outputs": [
    {
     "name": "stdout",
     "output_type": "stream",
     "text": [
      "(np.int64(1), np.int64(1))\n"
     ]
    }
   ],
   "source": [
    "print(np.unravel_index(np.argmax(matrix.flatten()), matrix.shape))"
   ]
  },
  {
   "cell_type": "code",
   "execution_count": 134,
   "id": "895060be-d749-4251-b63b-e229148919d5",
   "metadata": {},
   "outputs": [
    {
     "name": "stdout",
     "output_type": "stream",
     "text": [
      "[17 21 19]\n"
     ]
    }
   ],
   "source": [
    "print(matrix[matrix>15])"
   ]
  },
  {
   "cell_type": "code",
   "execution_count": 136,
   "id": "a8501253-3998-4094-a77b-4c3c72959609",
   "metadata": {},
   "outputs": [
    {
     "name": "stdout",
     "output_type": "stream",
     "text": [
      "[[ 5  9 12 17]\n",
      " [ 3  8 14 21]\n",
      " [ 6 11 13 19]]\n"
     ]
    }
   ],
   "source": [
    "print(np.sort(matrix))"
   ]
  },
  {
   "cell_type": "code",
   "execution_count": 138,
   "id": "76dcb931-518c-4782-81bb-872e601925a7",
   "metadata": {},
   "outputs": [],
   "source": [
    "arr = np.array([\n",
    "    [2,3,5],\n",
    "    [14,6,8],\n",
    "    [11,13,17],\n",
    "    [7,10,13]\n",
    "])"
   ]
  },
  {
   "cell_type": "code",
   "execution_count": 146,
   "id": "93b4b485-6ede-4f7c-b665-29a331aedd4f",
   "metadata": {},
   "outputs": [],
   "source": [
    "def is_prime(n):\n",
    "    if n < 2:\n",
    "        return False\n",
    "    for i in range(2, int(n**0.5) + 1):\n",
    "        if n % i == 0:\n",
    "            return False\n",
    "    return True"
   ]
  },
  {
   "cell_type": "code",
   "execution_count": 147,
   "id": "5912a2b7-d0fd-4b86-bebb-cbb3176a8841",
   "metadata": {},
   "outputs": [],
   "source": [
    "def rows_with_primes(arr):\n",
    "    prime_mask = np.vectorize(is_prime)(arr)\n",
    "    return arr[np.any(prime_mask, axis=1)]"
   ]
  },
  {
   "cell_type": "code",
   "execution_count": 148,
   "id": "95327f89-99b9-4835-ae25-53492adc7e0e",
   "metadata": {},
   "outputs": [
    {
     "name": "stdout",
     "output_type": "stream",
     "text": [
      "[[ 2  3  5]\n",
      " [11 13 17]\n",
      " [ 7 10 13]]\n"
     ]
    }
   ],
   "source": [
    "print(rows_with_primes(arr))"
   ]
  },
  {
   "cell_type": "raw",
   "id": "15c62f74-1b98-4f10-8e84-38d1ca42767e",
   "metadata": {},
   "source": []
  },
  {
   "cell_type": "code",
   "execution_count": 187,
   "id": "45e7d3a1-2b62-4d3d-af13-bc69364277bf",
   "metadata": {},
   "outputs": [
    {
     "data": {
      "text/plain": [
       "array([[1, 0, 1, 0, 1, 0, 1, 0],\n",
       "       [0, 1, 0, 1, 0, 1, 0, 1],\n",
       "       [1, 0, 1, 0, 1, 0, 1, 0],\n",
       "       [0, 1, 0, 1, 0, 1, 0, 1],\n",
       "       [1, 0, 1, 0, 1, 0, 1, 0],\n",
       "       [0, 1, 0, 1, 0, 1, 0, 1],\n",
       "       [1, 0, 1, 0, 1, 0, 1, 0],\n",
       "       [0, 1, 0, 1, 0, 1, 0, 1]])"
      ]
     },
     "execution_count": 187,
     "metadata": {},
     "output_type": "execute_result"
    }
   ],
   "source": [
    "def checkerboard():\n",
    "    checkerboard = np.zeros((8,8), dtype = int)\n",
    "    checkerboard[::2, ::2] = 1\n",
    "    checkerboard[1::2, 1::2] = 1\n",
    "    return checkerboard\n",
    "checkerboard()"
   ]
  },
  {
   "cell_type": "code",
   "execution_count": 188,
   "id": "52f29dbc-edf4-464a-bff5-71272469aaca",
   "metadata": {},
   "outputs": [
    {
     "data": {
      "text/plain": [
       "array([[0, 1, 0, 1, 0, 1, 0, 1],\n",
       "       [1, 0, 1, 0, 1, 0, 1, 0],\n",
       "       [0, 1, 0, 1, 0, 1, 0, 1],\n",
       "       [1, 0, 1, 0, 1, 0, 1, 0],\n",
       "       [0, 1, 0, 1, 0, 1, 0, 1],\n",
       "       [1, 0, 1, 0, 1, 0, 1, 0],\n",
       "       [0, 1, 0, 1, 0, 1, 0, 1],\n",
       "       [1, 0, 1, 0, 1, 0, 1, 0]])"
      ]
     },
     "execution_count": 188,
     "metadata": {},
     "output_type": "execute_result"
    }
   ],
   "source": [
    "def reverse_checkerboard():\n",
    "    checkerboard = np.zeros((8, 8), dtype=int)\n",
    "    checkerboard[::2, 1::2] = 1 \n",
    "    checkerboard[1::2, ::2] = 1\n",
    "    return checkerboard\n",
    "reverse_checkerboard()"
   ]
  },
  {
   "cell_type": "code",
   "execution_count": 205,
   "id": "f97ee002-4cea-4f19-a7b6-20c7a4000bcc",
   "metadata": {},
   "outputs": [
    {
     "name": "stdout",
     "output_type": "stream",
     "text": [
      "['g  a  l  a  x  y' 'c  l  u  s  t  e  r  s']\n"
     ]
    }
   ],
   "source": [
    "universe = np.array([\"galaxy\", \"clusters\"])\n",
    "def expansion(arr, num_spaces):\n",
    "    arr = np.array(arr, dtype=str)\n",
    "    spacer = \" \" * num_spaces\n",
    "    expanded = np.array([spacer.join(list(word)) for word in arr])\n",
    "    return expanded\n",
    "print(expansion(universe,2))"
   ]
  },
  {
   "cell_type": "code",
   "execution_count": 211,
   "id": "84276ebe-8edf-41df-ac8e-110bc738ea24",
   "metadata": {},
   "outputs": [],
   "source": [
    "def secondBrightest(stars):\n",
    "    sorted_stars = np.sort(stars, axis=1)\n",
    "    second_brightest = sorted_stars[:, -2]\n",
    "    return second_brightest"
   ]
  },
  {
   "cell_type": "code",
   "execution_count": 212,
   "id": "e611419c-72bd-43f3-b74b-e13aca94a004",
   "metadata": {},
   "outputs": [
    {
     "data": {
      "text/plain": [
       "array([1889, 1647, 1138, 1863, 1592])"
      ]
     },
     "execution_count": 212,
     "metadata": {},
     "output_type": "execute_result"
    }
   ],
   "source": [
    "np.random.seed(123)\n",
    "stars = np.random.randint(500, 2000, (5, 5))\n",
    "secondBrightest(stars)"
   ]
  },
  {
   "cell_type": "code",
   "execution_count": null,
   "id": "fbc403c6-9d5c-4976-a252-c983c08fd090",
   "metadata": {},
   "outputs": [],
   "source": []
  }
 ],
 "metadata": {
  "kernelspec": {
   "display_name": "Python [conda env:base] *",
   "language": "python",
   "name": "conda-base-py"
  },
  "language_info": {
   "codemirror_mode": {
    "name": "ipython",
    "version": 3
   },
   "file_extension": ".py",
   "mimetype": "text/x-python",
   "name": "python",
   "nbconvert_exporter": "python",
   "pygments_lexer": "ipython3",
   "version": "3.13.5"
  }
 },
 "nbformat": 4,
 "nbformat_minor": 5
}
