import numpy as np


list = [20,27,9,12,31,17,4,50,39,35]


arr = np.array(list)


arr*4



